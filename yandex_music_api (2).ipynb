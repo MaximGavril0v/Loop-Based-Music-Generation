{
  "nbformat": 4,
  "nbformat_minor": 0,
  "metadata": {
    "colab": {
      "provenance": []
    },
    "kernelspec": {
      "name": "python3",
      "display_name": "Python 3"
    },
    "language_info": {
      "name": "python"
    }
  },
  "cells": [
    {
      "cell_type": "code",
      "execution_count": null,
      "metadata": {
        "id": "UloZNcVkwMlA"
      },
      "outputs": [],
      "source": [
        "!pip install -U yandex-music"
      ]
    },
    {
      "cell_type": "code",
      "source": [
        "token = '...' # Указать токен для работы с API Яндекс Музыки\n",
        "\n",
        "from yandex_music import Client\n",
        "import IPython.display as ipd\n",
        "\n",
        "client = Client(token).init()"
      ],
      "metadata": {
        "id": "HG_f4P9W0XY0"
      },
      "execution_count": null,
      "outputs": []
    },
    {
      "cell_type": "code",
      "source": [
        "artist_id = 5724261 # Указать id желаемого артиста\n",
        "\n",
        "dataset_dir = '...' # Указать путь к папке, в которую следует загрузить датасет реальной музыки\n",
        "\n",
        "for track in client.artists_tracks(artist_id, page_size=1000):\n",
        "  title = track['title']\n",
        "  client.tracks(track['id'])[0].download(dataset_dir + title + '.mp3')"
      ],
      "metadata": {
        "id": "QkcJ8thlLh1T"
      },
      "execution_count": null,
      "outputs": []
    }
  ]
}